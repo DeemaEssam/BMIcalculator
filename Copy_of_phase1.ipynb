{
  "cells": [
    {
      "cell_type": "markdown",
      "metadata": {
        "id": "view-in-github",
        "colab_type": "text"
      },
      "source": [
        "<a href=\"https://colab.research.google.com/github/DeemaEssam/BMIcalculator/blob/main/Copy_of_phase1.ipynb\" target=\"_parent\"><img src=\"https://colab.research.google.com/assets/colab-badge.svg\" alt=\"Open In Colab\"/></a>"
      ]
    },
    {
      "cell_type": "markdown",
      "source": [
        "*Python code snippet that demonstrates the process of feature reduction in machine learning using a real-world dataset. Feature reduction is a crucial step in machine learning pipelines aimed at improving model performance, reducing overfitting, and enhancing interpretability by selecting only the most important features for predictive modeling.*"
      ],
      "metadata": {
        "id": "DeEUcvLqHMt7"
      }
    },
    {
      "cell_type": "code",
      "execution_count": null,
      "metadata": {
        "id": "fg4S3_6xDpv4"
      },
      "outputs": [],
      "source": [
        "import pandas as pd\n",
        "import numpy as np\n",
        "from sklearn.preprocessing import StandardScaler\n",
        "from sklearn.ensemble import RandomForestRegressor\n",
        "from sklearn.model_selection import train_test_split\n",
        "from sklearn.decomposition import PCA\n",
        "from sklearn.metrics import mean_squared_error\n"
      ]
    },
    {
      "cell_type": "markdown",
      "source": [
        "\n",
        "\n",
        "*   The code starts by loading a dataset named 'SA_Aqar.csv', assumed to contain real estate property information, using the pandas library.\n",
        "*   Categorical columns ('city', 'district', 'front') are converted into numeric format using one-hot encoding to prepare the data for machine learning algorithms.\n",
        "\n",
        "*   The target variable 'price' and irrelevant column 'details' are separated from the feature matrix.\n",
        "\n",
        "\n",
        "\n"
      ],
      "metadata": {
        "id": "v6KwQ0XxE3OD"
      }
    },
    {
      "cell_type": "code",
      "execution_count": null,
      "metadata": {
        "colab": {
          "base_uri": "https://localhost:8080/"
        },
        "id": "u6wBlqATIsgg",
        "outputId": "6d8d3782-27eb-4762-bbf7-a1fbd905e075"
      },
      "outputs": [
        {
          "output_type": "stream",
          "name": "stdout",
          "text": [
            "         city         district front  size  property_age  bedrooms  bathrooms  \\\n",
            "0      الرياض       حي العارض   شمال   250             0         5          5   \n",
            "1      الرياض     حي القادسية   جنوب   370             0         4          5   \n",
            "2      الرياض     حي القادسية   جنوب   380             0         4          5   \n",
            "3      الرياض     حي المعيزلة    غرب   250             0         5          5   \n",
            "4      الرياض       حي العليا    غرب   400            11         7          5   \n",
            "...       ...              ...   ...   ...           ...       ...        ...   \n",
            "3713    الخبر       حي اللؤلؤ    غرب   437             0         7          5   \n",
            "3714    الخبر      حي الصواري   جنوب   400             0         5          5   \n",
            "3715    الخبر       حي اللؤلؤ    غرب   330             0         6          4   \n",
            "3716    الخبر     حي الكورنيش   جنوب   300            13         6          5   \n",
            "3717    الخبر      حي الامواج    غرب   437             0         7          5   \n",
            "\n",
            "      livingrooms  kitchen  garage  ...  roof  pool  frontyard  basement  \\\n",
            "0               1        1       1  ...     0     0          1         0   \n",
            "1               2        1       1  ...     0     0          1         0   \n",
            "2               1        1       1  ...     1     0          1         0   \n",
            "3               3        0       1  ...     0     0          1         0   \n",
            "4               2        1       1  ...     1     0          1         0   \n",
            "...           ...      ...     ...  ...   ...   ...        ...       ...   \n",
            "3713            2        1       1  ...     1     0          1         0   \n",
            "3714            3        0       1  ...     1     0          1         0   \n",
            "3715            2        1       0  ...     1     0          1         0   \n",
            "3716            2        1       1  ...     0     0          1         0   \n",
            "3717            2        0       1  ...     1     0          1         0   \n",
            "\n",
            "      duplex  stairs  elevator  fireplace  price  \\\n",
            "0          1       1         0          0  80000   \n",
            "1          0       1         0          0  60000   \n",
            "2          0       1         0          0  60000   \n",
            "3          0       0         0          0  55000   \n",
            "4          1       1         0          0  70000   \n",
            "...      ...     ...       ...        ...    ...   \n",
            "3713       1       1         0          1  60000   \n",
            "3714       1       1         0          0  55000   \n",
            "3715       1       0         0          1  37000   \n",
            "3716       1       1         0          0  90000   \n",
            "3717       1       1         0          1  60000   \n",
            "\n",
            "                                                details  \n",
            "0     للايجار فيلا دبلكس في موقع ممتاز جدا بالقرب من...  \n",
            "1     *** فيلا درج مع الصالة جديدة ***\\n\\nعبارة عن م...  \n",
            "2     فيلا للايجار درج داخلي مشب خارجي مجلس مقلط وصا...  \n",
            "3     فيلا للايجار        جديده لن تستخدم          ش...  \n",
            "4     فيلا للايجار حي العليا \\n\\nالارضي مجالس وغرفتي...  \n",
            "...                                                 ...  \n",
            "3713  للإيجار فيلا دورين وملحق في حي الأصداف\\n\\nالمس...  \n",
            "3714  دبلكس للأيجار حي الصواري ج ٤٣\\n\\nمجلس خارجي (د...  \n",
            "3715  حوش مجلس خارجي مجلس رجال دورة مياة مجلط  صاله ...  \n",
            "3716  فيلا فاخرة في حي كورنيش الخبر. أفضل حي بالخبر....  \n",
            "3717  للأيجار ڤيلا دورين و ملحق في حي الأصداف\\n\\nالم...  \n",
            "\n",
            "[3718 rows x 24 columns]\n"
          ]
        }
      ],
      "source": [
        "# Load the dataset again\n",
        "df = pd.read_csv('/content/SA_Aqar.csv')\n",
        "\n",
        "# Convert 'city', 'district', and 'front' columns to numeric format using get_dummies\n",
        "df_encoded = pd.get_dummies(df, columns=['city', 'district', 'front'])\n",
        "\n",
        "# Assuming 'price' is the target variable, and excluding 'details' column as well\n",
        "X = df_encoded.drop(['price', 'details'], axis=1)\n",
        "y = df['price']\n",
        "\n",
        "print(df)"
      ]
    },
    {
      "cell_type": "code",
      "execution_count": null,
      "metadata": {
        "colab": {
          "base_uri": "https://localhost:8080/"
        },
        "id": "g6kPzKMlL00e",
        "outputId": "dd8e9d11-098d-4133-c2e3-6ae22e8b87ff"
      },
      "outputs": [
        {
          "output_type": "stream",
          "name": "stdout",
          "text": [
            "Drive already mounted at /content/drive; to attempt to forcibly remount, call drive.mount(\"/content/drive\", force_remount=True).\n"
          ]
        }
      ],
      "source": [
        "from google.colab import drive\n",
        "drive.mount('/content/drive')"
      ]
    },
    {
      "cell_type": "code",
      "source": [
        "# Split the dataset into training and testing sets\n",
        "X_train, X_test, y_train, y_test = train_test_split(X, y, test_size=0.2, random_state=42)\n"
      ],
      "metadata": {
        "id": "QA8ZFXIlEQm1"
      },
      "execution_count": null,
      "outputs": []
    },
    {
      "cell_type": "markdown",
      "source": [
        "Standardization of features is performed using the StandardScaler from scikit-learn. This step ensures that all features have a mean of 0 and a standard deviation of 1, which is essential for many machine learning algorithms, particularly those sensitive to feature scales."
      ],
      "metadata": {
        "id": "2E609h5XFQne"
      }
    },
    {
      "cell_type": "code",
      "source": [
        "# Initialize the StandardScaler\n",
        "scaler = StandardScaler()\n",
        "\n",
        "# Fit and transform the training feature data\n",
        "X_train_scaled = scaler.fit_transform(X_train)\n",
        "\n",
        "# Transform the testing feature data\n",
        "X_test_scaled = scaler.transform(X_test)"
      ],
      "metadata": {
        "id": "Lm6QaIviEQjf"
      },
      "execution_count": null,
      "outputs": []
    },
    {
      "cell_type": "markdown",
      "source": [
        "\n",
        "\n",
        "*   A RandomForestRegressor model with 100 estimators is initialized and trained on the standardized feature data (X_train_scaled).\n",
        "*   Feature importances are calculated based on the trained RandomForestRegressor model. Feature importance scores indicate the relative contribution of each feature to the prediction task"
      ],
      "metadata": {
        "id": "sgbfC9PqFVKj"
      }
    },
    {
      "cell_type": "code",
      "source": [
        "# Initialize the RandomForestRegressor\n",
        "rf = RandomForestRegressor(n_estimators=100, random_state=42)\n",
        "\n",
        "# Fit the model\n",
        "rf.fit(X_train_scaled, y_train)\n",
        "\n",
        "# Get feature importances\n",
        "importances = rf.feature_importances_\n",
        "\n",
        "# Create a Series of feature importances with their corresponding column names\n",
        "feature_importances = pd.Series(importances, index=X.columns).sort_values(ascending=False)\n",
        "\n",
        "print(\"Feature Importances:\\n\", feature_importances)"
      ],
      "metadata": {
        "colab": {
          "base_uri": "https://localhost:8080/"
        },
        "id": "tz8a4lgaEQg5",
        "outputId": "6e27bf04-e951-4f69-b57b-e68e4ed7c51a"
      },
      "execution_count": null,
      "outputs": [
        {
          "output_type": "stream",
          "name": "stdout",
          "text": [
            "Feature Importances:\n",
            " size                                        0.248109\n",
            "driver_room                                 0.075515\n",
            "property_age                                0.056658\n",
            "district_   حي الشاطئ                       0.039681\n",
            "district_   حي الحمدانية                    0.037515\n",
            "                                              ...   \n",
            "district_   حي السفارات                     0.000000\n",
            "district_   حي السامر                       0.000000\n",
            "district_   حي المدينة الصناعية الجديدة     0.000000\n",
            "district_   حي المزروعية                    0.000000\n",
            "district_   حي شبرا                         0.000000\n",
            "Length: 207, dtype: float64\n"
          ]
        }
      ]
    },
    {
      "cell_type": "markdown",
      "source": [
        "\n",
        "\n",
        "*   A threshold is chosen for feature importance. Features with importance scores below this threshold are considered unimportant and filtered out.\n",
        "\n",
        "*   \n",
        "The dataset is filtered to retain only the important features based on the chosen threshold. This reduced feature dataset is saved for further analysis.\n",
        "\n"
      ],
      "metadata": {
        "id": "oBhhg09HF5zI"
      }
    },
    {
      "cell_type": "code",
      "source": [
        "# Choose a threshold for feature importance\n",
        "threshold = 0.05\n",
        "\n",
        "# Filter out not important features based on the threshold\n",
        "important_features = feature_importances[feature_importances >= threshold].index.tolist()\n",
        "\n",
        "# Filter the original dataset to keep only important features\n",
        "X_train_reduced = X_train[important_features]\n",
        "X_test_reduced = X_test[important_features]\n",
        "concatenated_df = pd.concat([X_train_reduced, X_test_reduced], ignore_index=True)\n"
      ],
      "metadata": {
        "id": "TZJiadVMEQes"
      },
      "execution_count": null,
      "outputs": []
    },
    {
      "cell_type": "code",
      "source": [
        "# Save the reduced feature datasets to Excel\n",
        "# X_train_reduced.to_excel('X_train_reduced.xlsx', index=False)\n",
        "# X_test_reduced.to_excel('X_test_reduced.xlsx', index=False)\n",
        "concatenated_df.to_excel('concatenated_df.xlsx', index=False)\n",
        "print(concatenated_df)"
      ],
      "metadata": {
        "colab": {
          "base_uri": "https://localhost:8080/"
        },
        "id": "jPUDejELEaNl",
        "outputId": "e39e1e2c-c3fc-451e-ab65-d1d0222bc3e7"
      },
      "execution_count": null,
      "outputs": [
        {
          "output_type": "stream",
          "name": "stdout",
          "text": [
            "      size  driver_room  property_age\n",
            "0      360            1             5\n",
            "1      350            1            10\n",
            "2      600            1             9\n",
            "3      375            0             0\n",
            "4      250            1             5\n",
            "...    ...          ...           ...\n",
            "3713   348            0            30\n",
            "3714   600            1             9\n",
            "3715   300            1            13\n",
            "3716  3060            1             0\n",
            "3717   375            0             0\n",
            "\n",
            "[3718 rows x 3 columns]\n"
          ]
        }
      ]
    },
    {
      "cell_type": "code",
      "source": [
        "# Initialize PCA\n",
        "pca = PCA(n_components=0.95)\n",
        "\n",
        "# Fit PCA on the scaled training data\n",
        "X_train_pca = pca.fit_transform(X_train)\n",
        "\n",
        "# Transform the test data\n",
        "X_test_pca = pca.transform(X_test)\n",
        "\n",
        "print(f\"Original number of features: {X_train.shape[1]}\")\n",
        "print(f\"Reduced number of features: {X_train_pca.shape[1]}\")\n"
      ],
      "metadata": {
        "colab": {
          "base_uri": "https://localhost:8080/"
        },
        "id": "xxQgk9mhEaKI",
        "outputId": "f2406fd8-b3d0-46c1-87c7-d3dff13b3066"
      },
      "execution_count": null,
      "outputs": [
        {
          "output_type": "stream",
          "name": "stdout",
          "text": [
            "Original number of features: 207\n",
            "Reduced number of features: 1\n"
          ]
        }
      ]
    },
    {
      "cell_type": "code",
      "source": [
        "\n",
        "# Initialize the model\n",
        "rf_pca = RandomForestRegressor(n_estimators=100, random_state=42)\n",
        "\n",
        "# Fit the model on the PCA-transformed training data\n",
        "rf_pca.fit(X_train_pca, y_train)\n",
        "\n",
        "# Predict on the PCA-transformed test data\n",
        "y_pred_pca = rf_pca.predict(X_test_pca)\n"
      ],
      "metadata": {
        "id": "7aN05Rb9EQTd"
      },
      "execution_count": null,
      "outputs": []
    },
    {
      "cell_type": "code",
      "source": [
        "# Calculate MSE\n",
        "mse_pca = mean_squared_error(y_test, y_pred_pca)\n",
        "print(f\"Mean Squared Error after PCA: {mse_pca}\")"
      ],
      "metadata": {
        "colab": {
          "base_uri": "https://localhost:8080/"
        },
        "id": "6KImTXhyEnYY",
        "outputId": "4f7eed29-f583-4bbc-e220-72aeb27e5fdd"
      },
      "execution_count": null,
      "outputs": [
        {
          "output_type": "stream",
          "name": "stdout",
          "text": [
            "Mean Squared Error after PCA: 4492201686.791543\n"
          ]
        }
      ]
    }
  ],
  "metadata": {
    "colab": {
      "provenance": [],
      "include_colab_link": true
    },
    "kernelspec": {
      "display_name": "Python 3",
      "name": "python3"
    },
    "language_info": {
      "name": "python"
    }
  },
  "nbformat": 4,
  "nbformat_minor": 0
}